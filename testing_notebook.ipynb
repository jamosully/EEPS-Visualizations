{
 "cells": [
  {
   "cell_type": "markdown",
   "metadata": {},
   "source": [
    "# Testing Notebook"
   ]
  },
  {
   "cell_type": "code",
   "execution_count": null,
   "metadata": {},
   "outputs": [],
   "source": [
    "%matplotlib inline \n",
    "\n",
    "import os \n",
    "import sys\n",
    "import initialization\n",
    "import initialization_detail\n",
    "import environment as env\n",
    "import agent as agn\n",
    "import interaction as intrc\n",
    "import pdb\n",
    "import matplotlib.pyplot as plt\n",
    "plt.rc('figure', figsize=(20.0, 10.0))\n",
    "\n",
    "Path = ''\n",
    "sys.path.insert(0, Path)\n",
    "\n",
    "environment_detail = initialization_detail.environment_details()\n",
    "environment_parameter, agent_parameter = initialization.config()\n",
    "\n",
    "\n",
    "# Give the file_name to just plot a previousely saved simulation\n",
    "file_name = None\n",
    "\n",
    "if file_name == None:\n",
    "    agent = agn.Agent(agent_parameter)\n",
    "    environment = env.Environment(environment_parameter)\n",
    "    interaction = intrc.Interaction(agent, environment, agent_parameter,\n",
    "                                                        environment_parameter)\n",
    "    interaction.run_save()\n",
    "    file_name = interaction.file_name\n",
    "    print(file_name)\n",
    "\n",
    "results = intrc.Plot_results(file_name)\n",
    "results.showResults()\n",
    "results.print_setting()"
   ]
  }
 ],
 "metadata": {
  "kernelspec": {
   "display_name": "Python 3",
   "language": "python",
   "name": "python3"
  },
  "language_info": {
   "codemirror_mode": {
    "name": "ipython",
    "version": 3
   },
   "file_extension": ".py",
   "mimetype": "text/x-python",
   "name": "python",
   "nbconvert_exporter": "python",
   "pygments_lexer": "ipython3",
   "version": "3.11.8"
  }
 },
 "nbformat": 4,
 "nbformat_minor": 2
}
