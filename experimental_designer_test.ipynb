{
 "cells": [
  {
   "cell_type": "markdown",
   "metadata": {},
   "source": [
    "# Experimental Designer Testing"
   ]
  },
  {
   "cell_type": "code",
   "execution_count": 11,
   "metadata": {},
   "outputs": [
    {
     "name": "stdout",
     "output_type": "stream",
     "text": [
      "{1: [('A', 'B', 30)], 2: [('B', 'C', 30)], 3: [('D', 'C', 30)]}\n",
      "[('A', 'B', 30)]\n",
      "[('B', 'C', 30)]\n",
      "[('D', 'C', 30)]\n",
      "{0: ['A'], 1: ['B', 'B'], 2: ['C', 'D'], 3: ['C']}\n"
     ]
    }
   ],
   "source": [
    "%matplotlib inline \n",
    "\n",
    "import EEPS.initialization as initialization\n",
    "import EEPS.initialization_detail as initialization_detail\n",
    "import matplotlib.pyplot as plt\n",
    "import networkx as nx\n",
    "\n",
    "plt.rc('figure', figsize=(20.0, 10.0))\n",
    "\n",
    "def generate_training_structure(num_classes, training_order):\n",
    "\n",
    "    G = nx.DiGraph()\n",
    "    \n",
    "    print(training_order)\n",
    "\n",
    "    subsets = dict()\n",
    "    \n",
    "    for i in range(len(training_order)):\n",
    "        print(training_order[i+1])\n",
    "        if i not in subsets.keys():\n",
    "            subsets[i] = []\n",
    "        subsets[i].append(training_order[i+1][0][0])\n",
    "        if i+1 not in subsets.keys():\n",
    "            subsets[i+1] = []\n",
    "        subsets[i+1].append(training_order[i+1][0][1])\n",
    "\n",
    "    subsets = {k: subsets[k] for k in list(sorted(subsets.keys()))}\n",
    "    print(subsets)\n",
    "    \n",
    "\n",
    "\n",
    "num_classes, training_order, plot_blocks, plot_blocks_ID, mastery_training = \\\n",
    "initialization_detail.environment_parameters_details(initialization.environment_parameters()[\"environment_ID\"][0])\n",
    "\n",
    "generate_training_structure(num_classes, training_order)"
   ]
  }
 ],
 "metadata": {
  "kernelspec": {
   "display_name": "Python 3",
   "language": "python",
   "name": "python3"
  },
  "language_info": {
   "codemirror_mode": {
    "name": "ipython",
    "version": 3
   },
   "file_extension": ".py",
   "mimetype": "text/x-python",
   "name": "python",
   "nbconvert_exporter": "python",
   "pygments_lexer": "ipython3",
   "version": "3.11.8"
  }
 },
 "nbformat": 4,
 "nbformat_minor": 2
}
